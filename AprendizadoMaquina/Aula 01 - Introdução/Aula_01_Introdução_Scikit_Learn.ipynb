{
  "cells": [
    {
      "cell_type": "markdown",
      "metadata": {
        "id": "view-in-github",
        "colab_type": "text"
      },
      "source": [
        "<a href=\"https://colab.research.google.com/github/andrehochuli/teaching/blob/main/AprendizadoMaquina/Aula%2001%20-%20Introdu%C3%A7%C3%A3o/Aula_01_Introdu%C3%A7%C3%A3o_Scikit_Learn.ipynb\" target=\"_parent\"><img src=\"https://colab.research.google.com/assets/colab-badge.svg\" alt=\"Open In Colab\"/></a>"
      ]
    },
    {
      "cell_type": "markdown",
      "metadata": {
        "deletable": true,
        "editable": true,
        "id": "Hw8uX062jp49"
      },
      "source": [
        "# Scikit-Learn\n",
        "\n",
        "Existem várias bibliotecas Python que fornecem implementações sólidas de uma variedade de algoritmos de aprendizado de máquina. Uma das mais conhecidas é o Scikit-Learn, um pacote que fornece versões eficientes de um grande número de algoritmos comuns. O Scikit-Learn é caracterizado por uma API limpa, uniforme e simplificada, além de uma documentação on-line muito útil e completa. Um benefício dessa uniformidade é que, uma vez que você entenda o uso básico e a sintaxe do Scikit-Learn para um tipo de modelo, mudar para um novo modelo ou algoritmo é muito simples.\n",
        "\n",
        "Esta seção fornece uma visão geral da API do Scikit-Learn; um entendimento sólido desses elementos da API formará a base para entender a discussão prática mais profunda dos algoritmos e abordagens de aprendizado de máquina nos capítulos seguintes.\n",
        "\n",
        "Começaremos abordando a representação de dados no Scikit-Learn, seguido pela cobertura da API de Estimadores e, finalmente, passaremos por um exemplo mais interessante de uso dessas ferramentas para explorar um conjunto de imagens de dígitos escritos à mão."
      ]
    },
    {
      "cell_type": "markdown",
      "metadata": {
        "deletable": true,
        "editable": true,
        "id": "PbT2ldsmjp5B"
      },
      "source": [
        "## Representação de dados no Scikit-Learn\n",
        "\n",
        "A aprendizagem de máquina trata da criação de modelos a partir de dados: por esse motivo, começaremos discutindo como os dados podem ser representados para serem compreendidos pelo computador. A melhor maneira de pensar sobre dados no Scikit-Learn é em termos de tabelas de dados."
      ]
    },
    {
      "cell_type": "markdown",
      "metadata": {
        "deletable": true,
        "editable": true,
        "id": "MWufUQatjp5C"
      },
      "source": [
        "###Dados como tabela\n",
        "\n",
        "Uma tabela básica é uma grade bidimensional de dados, na qual as linhas representam as amostras individuais do conjunto de dados e as colunas representam as características relacionadas a cada um dessas amostras. Por exemplo, considere o conjunto de dados Íris, analisado por Ronald Fisher em 1936. Podemos baixar esse conjunto de dados na forma de um DataFrame do Pandas usando a biblioteca seaborn:"
      ]
    },
    {
      "cell_type": "code",
      "execution_count": null,
      "metadata": {
        "deletable": true,
        "editable": true,
        "id": "p6vOZ3TEjp5C"
      },
      "outputs": [],
      "source": [
        "import seaborn as sns\n",
        "iris = sns.load_dataset('iris')\n",
        "iris.head()"
      ]
    },
    {
      "cell_type": "markdown",
      "source": [
        "Aqui, cada linha dos dados se refere a uma única flor observada, e o número de linhas é o número total de flores no conjunto de dados. (n_samples)\n",
        "\n",
        "Da mesma forma, cada coluna dos dados se refere a uma peça quantitativa específica de informação que descreve cada amostra. Em geral, nos referiremos às colunas da matriz como características e ao número de colunas como n_features."
      ],
      "metadata": {
        "id": "KffFT8Zhl6lU"
      }
    },
    {
      "cell_type": "markdown",
      "metadata": {
        "deletable": true,
        "editable": true,
        "id": "K-JvRMjRjp5F"
      },
      "source": [
        "#### Rótulo (Classe)\n",
        "\n",
        "Por exemplo, nos dados anteriores, podemos desejar construir um modelo que possa prever a espécie da flor com base em outras medições; nesse caso, a coluna de espécies seria considerada como a classe.\n",
        "\n",
        "Com isso em mente, podemos visualizar os dados separados por classe e características para analisar a distribuição."
      ]
    },
    {
      "cell_type": "code",
      "execution_count": null,
      "metadata": {
        "deletable": true,
        "editable": true,
        "id": "RWFqovz_jp5F"
      },
      "outputs": [],
      "source": [
        "%matplotlib inline\n",
        "import seaborn as sns; sns.set()\n",
        "sns.pairplot(iris, hue='species', size=1.5);"
      ]
    },
    {
      "cell_type": "markdown",
      "metadata": {
        "deletable": true,
        "editable": true,
        "id": "SN7yewWBjp5F"
      },
      "source": [
        "Para treinarmos um modelo utilizando a matriz, necessitamos seperar o vetor de característica (x) e o seu rótulo (y)"
      ]
    },
    {
      "cell_type": "code",
      "execution_count": null,
      "metadata": {
        "deletable": true,
        "editable": true,
        "id": "r5_xVt7-jp5G"
      },
      "outputs": [],
      "source": [
        "X_iris = iris.drop('species', axis=1)\n",
        "X_iris.shape"
      ]
    },
    {
      "cell_type": "code",
      "execution_count": null,
      "metadata": {
        "deletable": true,
        "editable": true,
        "id": "1xu3Bch3jp5G"
      },
      "outputs": [],
      "source": [
        "y_iris = iris['species']\n",
        "y_iris.shape"
      ]
    },
    {
      "cell_type": "markdown",
      "metadata": {
        "deletable": true,
        "editable": true,
        "id": "x7GaWQTOjp5G"
      },
      "source": [
        "![](https://github.com/jakevdp/PythonDataScienceHandbook/blob/master/notebooks/figures/05.02-samples-features.png?raw=1)\n",
        "[figure source in Appendix](06.00-Figure-Code.ipynb#Features-and-Labels-Grid)"
      ]
    },
    {
      "cell_type": "markdown",
      "metadata": {
        "deletable": true,
        "editable": true,
        "id": "apuxyI3gjp5M"
      },
      "source": [
        "### Aprendizado Supervisionado: Classificação Base Iris \n"
      ]
    },
    {
      "cell_type": "markdown",
      "source": [
        "#Preparação dos dados"
      ],
      "metadata": {
        "id": "JpI_8Zv9qGB_"
      }
    },
    {
      "cell_type": "code",
      "execution_count": null,
      "metadata": {
        "collapsed": true,
        "deletable": true,
        "editable": true,
        "id": "-Xx00GmDjp5M"
      },
      "outputs": [],
      "source": [
        "from sklearn.model_selection import train_test_split\n",
        "Xtrain, Xtest, ytrain, ytest = train_test_split(X_iris, y_iris,\n",
        "                                                random_state=1)"
      ]
    },
    {
      "cell_type": "code",
      "execution_count": null,
      "metadata": {
        "deletable": true,
        "editable": true,
        "id": "YeXcRvUejp5M"
      },
      "outputs": [],
      "source": [
        "from sklearn.naive_bayes import GaussianNB \n",
        "model = GaussianNB()                       \n",
        "model.fit(Xtrain, ytrain)                  \n",
        "y_model = model.predict(Xtest)             "
      ]
    },
    {
      "cell_type": "code",
      "execution_count": null,
      "metadata": {
        "deletable": true,
        "editable": true,
        "id": "fUMRwYfQjp5M"
      },
      "outputs": [],
      "source": [
        "from sklearn.metrics import accuracy_score\n",
        "accuracy_score(ytest, y_model)"
      ]
    },
    {
      "cell_type": "code",
      "source": [
        "from sklearn.metrics import confusion_matrix\n",
        "\n",
        "mat = confusion_matrix(ytest, y_model)\n",
        "\n",
        "sns.heatmap(mat, square=True, annot=True, cbar=False)\n",
        "plt.xlabel('predicted value')\n",
        "plt.ylabel('true value');\n",
        "\n",
        "#0 -> Setosa, 1 -> Versicolor, 2 -> Verginica"
      ],
      "metadata": {
        "colab": {
          "base_uri": "https://localhost:8080/",
          "height": 285
        },
        "id": "nOhyvoEQq7DH",
        "outputId": "9e40d885-190a-437e-a373-cb9abe7993c3"
      },
      "execution_count": null,
      "outputs": [
        {
          "output_type": "display_data",
          "data": {
            "text/plain": [
              "<Figure size 432x288 with 1 Axes>"
            ],
            "image/png": "[encoded data removed]"
          },
          "metadata": {}
        }
      ]
    },
    {
      "cell_type": "markdown",
      "metadata": {
        "deletable": true,
        "editable": true,
        "id": "Q59J4ewejp5Q"
      },
      "source": [
        "### Digitos Manuscritos\n",
        "\n"
      ]
    },
    {
      "cell_type": "code",
      "execution_count": null,
      "metadata": {
        "deletable": true,
        "editable": true,
        "id": "jYp3MpzHjp5Q"
      },
      "outputs": [],
      "source": [
        "from sklearn.datasets import load_digits\n",
        "digits = load_digits()\n",
        "digits.images.shape\n",
        "\n"
      ]
    },
    {
      "cell_type": "code",
      "source": [
        "import matplotlib.pyplot as plt\n",
        "\n",
        "fig, axes = plt.subplots(10, 10, figsize=(8, 8),\n",
        "                         subplot_kw={'xticks':[], 'yticks':[]},\n",
        "                         gridspec_kw=dict(hspace=0.1, wspace=0.1))\n",
        "\n",
        "for i, ax in enumerate(axes.flat):\n",
        "    ax.imshow(digits.images[i], cmap='binary', interpolation='nearest')\n",
        "    ax.text(0.05, 0.05, str(digits.target[i]),\n",
        "            transform=ax.transAxes, color='green')"
      ],
      "metadata": {
        "id": "z1lpGtx0sV77"
      },
      "execution_count": null,
      "outputs": []
    },
    {
      "cell_type": "code",
      "execution_count": null,
      "metadata": {
        "collapsed": true,
        "deletable": true,
        "editable": true,
        "id": "dEtONLjvjp5Q"
      },
      "outputs": [],
      "source": [
        "from sklearn.naive_bayes import GaussianNB\n",
        "model = GaussianNB()\n",
        "model.fit(Xtrain, ytrain)\n",
        "y_model = model.predict(Xtest)"
      ]
    },
    {
      "cell_type": "code",
      "execution_count": null,
      "metadata": {
        "deletable": true,
        "editable": true,
        "id": "sDnI1VG6jp5R"
      },
      "outputs": [],
      "source": [
        "from sklearn.metrics import accuracy_score\n",
        "accuracy_score(ytest, y_model)"
      ]
    },
    {
      "cell_type": "code",
      "source": [
        "X = digits.data\n",
        "y = digits.target\n",
        "y.shape\n",
        "print(X.shape, y.shape)\n",
        "\n",
        "#Data preparation (Holdout)\n",
        "Xtrain, Xtest, ytrain, ytest = train_test_split(X, y, random_state=0)"
      ],
      "metadata": {
        "id": "c0DGsFPpsXyk"
      },
      "execution_count": null,
      "outputs": []
    },
    {
      "cell_type": "code",
      "source": [
        "from sklearn.manifold import Isomap\n",
        "iso = Isomap(n_components=2)\n",
        "iso.fit(digits.data)\n",
        "data_projected = iso.transform(digits.data)\n",
        "data_projected.shape\n",
        "\n",
        "plt.scatter(data_projected[:, 0], data_projected[:, 1], c=digits.target,\n",
        "            edgecolor='none', alpha=0.5)\n",
        "plt.colorbar(label='digit label', ticks=range(10))\n",
        "plt.clim(-0.5, 9.5);"
      ],
      "metadata": {
        "id": "p82p2mBIsxNb"
      },
      "execution_count": null,
      "outputs": []
    },
    {
      "cell_type": "code",
      "source": [
        "from sklearn.naive_bayes import GaussianNB\n",
        "model = GaussianNB()\n",
        "model.fit(Xtrain, ytrain)\n",
        "y_model = model.predict(Xtest)"
      ],
      "metadata": {
        "id": "7IsXC20NtNW5"
      },
      "execution_count": null,
      "outputs": []
    },
    {
      "cell_type": "code",
      "execution_count": null,
      "metadata": {
        "deletable": true,
        "editable": true,
        "id": "2aPFRRnWjp5R"
      },
      "outputs": [],
      "source": [
        "from sklearn.metrics import confusion_matrix\n",
        "\n",
        "mat = confusion_matrix(ytest, y_model)\n",
        "\n",
        "sns.heatmap(mat, square=True, annot=True, cbar=False)\n",
        "plt.xlabel('predicted value')\n",
        "plt.ylabel('true value');"
      ]
    },
    {
      "cell_type": "code",
      "execution_count": null,
      "metadata": {
        "deletable": true,
        "editable": true,
        "id": "8aQDGXgUjp5R"
      },
      "outputs": [],
      "source": [
        "fig, axes = plt.subplots(10, 10, figsize=(8, 8),\n",
        "                         subplot_kw={'xticks':[], 'yticks':[]},\n",
        "                         gridspec_kw=dict(hspace=0.1, wspace=0.1))\n",
        "\n",
        "test_images = Xtest.reshape(-1, 8, 8)\n",
        "\n",
        "for i, ax in enumerate(axes.flat):\n",
        "    ax.imshow(test_images[i], cmap='binary', interpolation='nearest')\n",
        "    ax.text(0.05, 0.05, str(y_model[i]),\n",
        "            transform=ax.transAxes,\n",
        "            color='green' if (ytest[i] == y_model[i]) else 'red')"
      ]
    }
  ],
  "metadata": {
    "anaconda-cloud": {},
    "kernelspec": {
      "display_name": "Python 3",
      "language": "python",
      "name": "python3"
    },
    "language_info": {
      "codemirror_mode": {
        "name": "ipython",
        "version": 3
      },
      "file_extension": ".py",
      "mimetype": "text/x-python",
      "name": "python",
      "nbconvert_exporter": "python",
      "pygments_lexer": "ipython3",
      "version": "3.5.1"
    },
    "colab": {
      "provenance": [],
      "include_colab_link": true
    }
  },
  "nbformat": 4,
  "nbformat_minor": 0
}