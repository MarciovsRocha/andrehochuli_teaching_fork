{
  "cells": [
    {
      "cell_type": "markdown",
      "metadata": {
        "id": "view-in-github",
        "colab_type": "text"
      },
      "source": [
        "<a href=\"https://colab.research.google.com/github/andrehochuli/teaching/blob/main/AprendizadoMaquina/T%C3%B3pico%2004%20-%20Deep%20Learning/Introdu%C3%A7%C3%A3o_Deep_Learning.ipynb\" target=\"_parent\"><img src=\"https://colab.research.google.com/assets/colab-badge.svg\" alt=\"Open In Colab\"/></a>"
      ]
    },
    {
      "cell_type": "markdown",
      "source": [
        "# Introdução ao Deep Learning"
      ],
      "metadata": {
        "cell_id": "3681f013a83c4ebc981d773f1bce70d2",
        "formattedRanges": [],
        "deepnote_cell_type": "text-cell-h1",
        "id": "i7eXJhMIQ7-J"
      }
    },
    {
      "cell_type": "code",
      "source": [
        "import tensorflow as tf\n",
        "import cv2\n",
        "import numpy as np\n"
      ],
      "metadata": {
        "id": "0MPb8oKpeJkp"
      },
      "execution_count": 1,
      "outputs": []
    },
    {
      "cell_type": "markdown",
      "source": [
        "## Benchmark Datasets"
      ],
      "metadata": {
        "id": "92_RNEbCcrDK"
      }
    },
    {
      "cell_type": "code",
      "source": [
        "from tensorflow.keras.datasets import cifar10,fashion_mnist, mnist\n",
        "\n",
        "#classes cifar\n",
        "cifar_names = [\"Avião\", \"Automóvel\", \"Pássaro\", \"Gato\", \"Cervo\",\n",
        "    \"Cachorro\", \"Sapo\", \"Cavalo\", \"Navio\", \"Caminhão\"]\n",
        "\n",
        "\n",
        "#classes fashion_mnist\n",
        "fashion_names = [\"T-shirt/top\",\"Trouser\",\"Pullover\",\"Dress\",\n",
        "\"Coat\", \"Sandal\", \"Shirt\", \"Sneaker\", \"Bag\", \"Ankle boot\" ]\n",
        "\n",
        "#classes mnist\n",
        "mnist_names = [\"0\",\"1\",\"2\",\"3\",\"4\",\"5\",\"6\",\"7\",\"8\",\"9\"]\n",
        "\n",
        "\n",
        "# Carregar o conjunto de dados CIFAR_10\n",
        "(x_train, y_train), (x_test, y_test) = mnist.load_data()\n",
        "class_names = mnist_names\n",
        "\n",
        "# Exibir as dimensões dos conjuntos de treinamento e teste\n",
        "print(\"Dimensões do conjunto de treinamento:\")\n",
        "print(\"Imagens de treinamento:\", x_train.shape)\n",
        "print(\"Labels de treinamento:\", y_train.shape)\n",
        "print()\n",
        "print(\"Dimensões do conjunto de teste:\")\n",
        "print(\"Imagens de teste:\", x_test.shape)\n",
        "print(\"Labels de teste:\", y_test.shape)\n"
      ],
      "metadata": {
        "cell_id": "71fd977a786f4a108d5c513811611f2a",
        "source_hash": "d10d9287",
        "execution_start": 1684769368189,
        "execution_millis": 5696,
        "deepnote_to_be_reexecuted": false,
        "deepnote_cell_type": "code",
        "colab": {
          "base_uri": "https://localhost:8080/"
        },
        "id": "ijZgdET2Q7-M",
        "outputId": "63126f6e-c384-42cf-e188-0893d495d412"
      },
      "outputs": [
        {
          "output_type": "stream",
          "name": "stdout",
          "text": [
            "Downloading data from https://storage.googleapis.com/tensorflow/tf-keras-datasets/mnist.npz\n",
            "11490434/11490434 [==============================] - 0s 0us/step\n",
            "Dimensões do conjunto de treinamento:\n",
            "Imagens de treinamento: (60000, 28, 28)\n",
            "Labels de treinamento: (60000,)\n",
            "\n",
            "Dimensões do conjunto de teste:\n",
            "Imagens de teste: (10000, 28, 28)\n",
            "Labels de teste: (10000,)\n"
          ]
        }
      ],
      "execution_count": 2
    },
    {
      "cell_type": "code",
      "source": [
        "import numpy as np\n",
        "import matplotlib.pyplot as plt\n",
        "\n",
        "# Função para plotar as imagens\n",
        "def plot_images(images, labels, cmap = 'color'):\n",
        "    # Configurar o grid para exibir as imagens\n",
        "    fig, axes = plt.subplots(3, 3, figsize=(6, 4))\n",
        "    axes = axes.flatten()\n",
        "\n",
        "    # Iterar sobre as imagens e os rótulos\n",
        "    for i, (image, label) in enumerate(zip(images, labels)):\n",
        "        # Exibir a imagem\n",
        "        names = class_names[int(label)]\n",
        "        axes[i].imshow(image, cmap = cmap)\n",
        "        axes[i].axis('off')\n",
        "        axes[i].set_title(f\"{names}\")\n",
        "\n",
        "    # Ajustar o espaçamento entre as subplots\n",
        "    plt.tight_layout()\n",
        "    plt.show()"
      ],
      "metadata": {
        "cell_id": "e2e858110d3f4ab1b3ddc2911e4c424b",
        "source_hash": "58cc1e7a",
        "execution_start": 1684769386502,
        "execution_millis": 12,
        "deepnote_to_be_reexecuted": false,
        "deepnote_cell_type": "code",
        "id": "UHgTb1GDQ7-P"
      },
      "outputs": [],
      "execution_count": 3
    },
    {
      "cell_type": "code",
      "source": [
        "plot_images(x_train[:9],y_train[:9], cmap='gray')"
      ],
      "metadata": {
        "cell_id": "e2a18f3845fd439a960867ff25abfede",
        "source_hash": "c36927fa",
        "execution_start": 1684769389886,
        "execution_millis": 552,
        "deepnote_to_be_reexecuted": false,
        "deepnote_cell_type": "code",
        "colab": {
          "base_uri": "https://localhost:8080/",
          "height": 407
        },
        "id": "Vuy-i5wiQ7-P",
        "outputId": "e9643a81-b8ea-4c5d-8b4b-6415ca656efd"
      },
      "outputs": [
        {
          "output_type": "display_data",
          "data": {
            "text/plain": [
              "<Figure size 600x400 with 9 Axes>"
            ],
            "image/png": "[encoded data removed]"
          },
          "metadata": {}
        }
      ],
      "execution_count": 4
    }
  ],
  "nbformat": 4,
  "nbformat_minor": 0,
  "metadata": {
    "deepnote": {},
    "orig_nbformat": 2,
    "deepnote_notebook_id": "aaee91e61d054f2381a49312173cb0ab",
    "deepnote_execution_queue": [],
    "colab": {
      "provenance": [],
      "gpuType": "T4",
      "include_colab_link": true
    },
    "language_info": {
      "name": "python"
    },
    "kernelspec": {
      "name": "python3",
      "display_name": "Python 3"
    },
    "gpuClass": "standard"
  }
}